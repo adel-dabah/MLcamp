{
 "cells": [
  {
   "cell_type": "code",
   "execution_count": 2,
   "id": "c263ff31",
   "metadata": {},
   "outputs": [
    {
     "data": {
      "text/plain": [
       "array([2.5, 2.5, 2.5, 2.5, 2.5, 2.5, 2.5, 2.5, 2.5, 2.5])"
      ]
     },
     "execution_count": 2,
     "metadata": {},
     "output_type": "execute_result"
    }
   ],
   "source": [
    "import numpy as np\n",
    "np.zeros(5)\n",
    "np.ones(10)\n",
    "np.full(10,2.5)"
   ]
  },
  {
   "cell_type": "code",
   "execution_count": 3,
   "id": "89e6d151",
   "metadata": {},
   "outputs": [
    {
     "name": "stdout",
     "output_type": "stream",
     "text": [
      "3\n",
      "[  1   2 100  12]\n"
     ]
    }
   ],
   "source": [
    "a1=[1,2,3,12]\n",
    "a=np.array(a1)\n",
    "print(a[2])\n",
    "a[2]=100\n",
    "print (a)\n"
   ]
  },
  {
   "cell_type": "code",
   "execution_count": 4,
   "id": "61f8512c",
   "metadata": {},
   "outputs": [
    {
     "data": {
      "text/plain": [
       "array([3, 4, 5, 6, 7, 8, 9])"
      ]
     },
     "execution_count": 4,
     "metadata": {},
     "output_type": "execute_result"
    }
   ],
   "source": [
    "np.arange(3,10)"
   ]
  },
  {
   "cell_type": "code",
   "execution_count": 5,
   "id": "44a5ecac",
   "metadata": {},
   "outputs": [
    {
     "data": {
      "text/plain": [
       "array([0. , 0.1, 0.2, 0.3, 0.4, 0.5, 0.6, 0.7, 0.8, 0.9, 1. ])"
      ]
     },
     "execution_count": 5,
     "metadata": {},
     "output_type": "execute_result"
    }
   ],
   "source": [
    "np.linspace(0,1,11)"
   ]
  },
  {
   "cell_type": "markdown",
   "id": "d54201a2",
   "metadata": {},
   "source": [
    "Multi-dementionel arrays"
   ]
  },
  {
   "cell_type": "code",
   "execution_count": 6,
   "id": "9662d6f9",
   "metadata": {},
   "outputs": [
    {
     "data": {
      "text/plain": [
       "array([[0., 0., 0., 0., 0., 0., 0., 0., 0., 0.],\n",
       "       [0., 0., 0., 0., 0., 0., 0., 0., 0., 0.],\n",
       "       [0., 0., 0., 0., 0., 0., 0., 0., 0., 0.],\n",
       "       [0., 0., 0., 0., 0., 0., 0., 0., 0., 0.],\n",
       "       [0., 0., 0., 0., 0., 0., 0., 0., 0., 0.]])"
      ]
     },
     "execution_count": 6,
     "metadata": {},
     "output_type": "execute_result"
    }
   ],
   "source": [
    "np.zeros((5,10))"
   ]
  },
  {
   "cell_type": "code",
   "execution_count": 7,
   "id": "0c3c63c1",
   "metadata": {},
   "outputs": [
    {
     "name": "stdout",
     "output_type": "stream",
     "text": [
      "[[  1 100  30]\n",
      " [  0   5  10]\n",
      " [ 10  36   6]]\n"
     ]
    }
   ],
   "source": [
    "n=np.array([[1,2,30],[0,5,10],[10,36,6]])\n",
    "n[0,1]=100\n",
    "print(n)"
   ]
  },
  {
   "cell_type": "code",
   "execution_count": 8,
   "id": "c602ef59",
   "metadata": {},
   "outputs": [
    {
     "name": "stdout",
     "output_type": "stream",
     "text": [
      "[[ 3 99 99]\n",
      " [ 0 99 10]\n",
      " [10 99  6]]\n"
     ]
    }
   ],
   "source": [
    "n[0]=[3,5,99]#access a row \n",
    "n[:,1]= [99,99,99] #access a colomn \n",
    "print (n)"
   ]
  },
  {
   "cell_type": "markdown",
   "id": "7474db09",
   "metadata": {},
   "source": []
  },
  {
   "cell_type": "code",
   "execution_count": 9,
   "id": "b23bb57e",
   "metadata": {},
   "outputs": [
    {
     "data": {
      "text/plain": [
       "array([[0.4359949 , 0.02592623],\n",
       "       [0.54966248, 0.43532239],\n",
       "       [0.4203678 , 0.33033482],\n",
       "       [0.20464863, 0.61927097],\n",
       "       [0.29965467, 0.26682728]])"
      ]
     },
     "execution_count": 9,
     "metadata": {},
     "output_type": "execute_result"
    }
   ],
   "source": [
    "np.random.seed(2) # if you want to have the same numbers each time \n",
    "np.random.rand(5,2)"
   ]
  },
  {
   "cell_type": "code",
   "execution_count": 10,
   "id": "1686c312",
   "metadata": {},
   "outputs": [
    {
     "name": "stdout",
     "output_type": "stream",
     "text": [
      "[[62.11338328 52.91420943 13.45799453 51.35781213 18.44398656]\n",
      " [78.53351478 85.39752926 49.42368374 84.65614854  7.9645477 ]\n",
      " [50.52460901  6.52865044 42.81223276  9.65309157 12.71599717]\n",
      " [59.6745309  22.60120006 10.69456843 22.03062071 34.9826285 ]\n",
      " [46.77874846 20.17432263 64.04067252 48.30698356 50.523672  ]\n",
      " [38.68926511 79.36374544 58.00041789 16.22985985 70.07523466]\n",
      " [96.45510801 50.00083612 88.95200639 34.16136527 56.71441276]\n",
      " [42.75459633 43.6747263  77.6559185  53.56041735 95.37422269]\n",
      " [54.42081601  8.20949223 36.63424017 85.0850504  40.6275043 ]\n",
      " [ 2.72023659 24.7177239   6.71443707 99.38520114 97.05803134]]\n",
      "[[1 2 3 1 3 4 4 1 1 2]\n",
      " [4 4 2 4 2 1 1 3 3 2]\n",
      " [4 2 4 3 2 3 4 4 4 4]\n",
      " [1 4 3 4 2 1 3 4 4 1]\n",
      " [3 1 3 2 1 1 4 4 3 3]]\n"
     ]
    }
   ],
   "source": [
    "n2=100*np.random.rand(10,5)\n",
    "print(n2)\n",
    "n2=np.random.randint(1,5, (5,10))\n",
    "print(n2)"
   ]
  },
  {
   "cell_type": "code",
   "execution_count": 11,
   "id": "ade5ee38",
   "metadata": {},
   "outputs": [
    {
     "data": {
      "text/plain": [
       "array([  1,  51, 101, 151, 201])"
      ]
     },
     "execution_count": 11,
     "metadata": {},
     "output_type": "execute_result"
    }
   ],
   "source": [
    "a= 50*np.arange(5)\n",
    "a+1 # add 1 to each element in a  (you can do all sort operations element wise)"
   ]
  },
  {
   "cell_type": "code",
   "execution_count": 12,
   "id": "4c98aad7",
   "metadata": {},
   "outputs": [
    {
     "data": {
      "text/plain": [
       "array([-10.        ,  -9.01960784,  -9.00990099, 140.        ,\n",
       "        -9.00497512])"
      ]
     },
     "execution_count": 12,
     "metadata": {},
     "output_type": "execute_result"
    }
   ],
   "source": [
    "b= 50*np.arange(5)+1\n",
    "b[3]=1\n",
    "\n",
    "a+b \n",
    "a/b\n",
    "a/b-10\n"
   ]
  },
  {
   "cell_type": "code",
   "execution_count": 13,
   "id": "caa1f6ab",
   "metadata": {},
   "outputs": [
    {
     "data": {
      "text/plain": [
       "array([False, False, False,  True, False])"
      ]
     },
     "execution_count": 13,
     "metadata": {},
     "output_type": "execute_result"
    }
   ],
   "source": [
    "a>2 # return a list of true/false element wise \n",
    "a>b # the same "
   ]
  },
  {
   "cell_type": "code",
   "execution_count": 14,
   "id": "f4723a61",
   "metadata": {},
   "outputs": [
    {
     "name": "stdout",
     "output_type": "stream",
     "text": [
      "[  0  50 100 200]\n"
     ]
    }
   ],
   "source": [
    "c= a[a<b] # only the elements of a where a[i]<b[i]\n",
    "print (c)"
   ]
  },
  {
   "cell_type": "code",
   "execution_count": 15,
   "id": "94306960",
   "metadata": {},
   "outputs": [
    {
     "data": {
      "text/plain": [
       "np.float64(87.5)"
      ]
     },
     "execution_count": 15,
     "metadata": {},
     "output_type": "execute_result"
    }
   ],
   "source": [
    "c.sum()\n",
    "c.sort()\n",
    "c.mean()#...."
   ]
  },
  {
   "cell_type": "markdown",
   "id": "c7a2a06b",
   "metadata": {},
   "source": [
    "Matrix vector/matrix multiplication \n",
    "Identity matrix np.eye(5)"
   ]
  },
  {
   "cell_type": "code",
   "execution_count": 52,
   "id": "dbe87531",
   "metadata": {},
   "outputs": [
    {
     "name": "stdout",
     "output_type": "stream",
     "text": [
      "[[1. 0. 0. 0. 0.]\n",
      " [0. 1. 0. 0. 0.]\n",
      " [0. 0. 1. 0. 0.]\n",
      " [0. 0. 0. 1. 0.]\n",
      " [0. 0. 0. 0. 1.]]\n"
     ]
    },
    {
     "data": {
      "text/plain": [
       "array([[ 1.00000000e+00,  2.06432094e-16, -5.55111512e-17,\n",
       "         1.21430643e-17, -9.36750677e-17],\n",
       "       [-3.46944695e-18,  1.00000000e+00,  5.55111512e-17,\n",
       "         5.20417043e-18, -2.42861287e-17],\n",
       "       [-2.42861287e-17,  2.86229374e-16,  1.00000000e+00,\n",
       "        -1.90819582e-17, -3.46944695e-18],\n",
       "       [-7.28583860e-17,  6.76542156e-17,  1.66533454e-16,\n",
       "         1.00000000e+00, -1.04083409e-17],\n",
       "       [-6.59194921e-17,  1.54390389e-16, -5.55111512e-17,\n",
       "         1.56125113e-17,  1.00000000e+00]])"
      ]
     },
     "execution_count": 52,
     "metadata": {},
     "output_type": "execute_result"
    }
   ],
   "source": [
    "np.random.seed(5)\n",
    "v1=np.random.randint(0,10,(5))\n",
    "v2=np.random.randint(0,10,(5))\n",
    "v3=np.random.random(size=(5,5))\n",
    "v4=np.random.random(size=(5,3))\n",
    "v1.dot(v2) # vector vector multiplication \n",
    "v1.dot(v3) # vector matrix multiplication\n",
    "v3.dot(v1) # matrix vector multiplication\n",
    "v3.dot(v4) # matrix matrix multiplication \n",
    "\n",
    "v5=np.eye(5) # identity matrix \n",
    "print(v5)\n",
    "v3.dot(v5) # gives the same matrix \n",
    "# inverse matrix only for square matrices. \n",
    "vv=np.random.randint(5,100,size=(5,5))\n",
    "vv_invers=np.linalg.inv(vv)\n",
    "vvv=vv.dot(vv_invers)\n",
    "vvv\n",
    "\n",
    "\n"
   ]
  }
 ],
 "metadata": {
  "kernelspec": {
   "display_name": "Python 3",
   "language": "python",
   "name": "python3"
  },
  "language_info": {
   "codemirror_mode": {
    "name": "ipython",
    "version": 3
   },
   "file_extension": ".py",
   "mimetype": "text/x-python",
   "name": "python",
   "nbconvert_exporter": "python",
   "pygments_lexer": "ipython3",
   "version": "3.12.1"
  }
 },
 "nbformat": 4,
 "nbformat_minor": 5
}
